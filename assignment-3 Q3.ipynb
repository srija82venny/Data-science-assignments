{
 "cells": [
  {
   "cell_type": "code",
   "execution_count": 1,
   "id": "1d8122b3",
   "metadata": {
    "ExecuteTime": {
     "end_time": "2023-09-15T06:32:02.516455Z",
     "start_time": "2023-09-15T06:32:01.995724Z"
    }
   },
   "outputs": [],
   "source": [
    "import pandas as pd\n",
    "import numpy as np \n",
    "from scipy import stats\n",
    "from scipy.stats import norm\n",
    "from scipy.stats import chi2_contingency"
   ]
  },
  {
   "cell_type": "code",
   "execution_count": 2,
   "id": "6bd89d9c",
   "metadata": {
    "ExecuteTime": {
     "end_time": "2023-09-15T06:33:09.226509Z",
     "start_time": "2023-09-15T06:33:09.213546Z"
    }
   },
   "outputs": [],
   "source": [
    "df=pd.read_csv('BuyerRatio.csv')"
   ]
  },
  {
   "cell_type": "code",
   "execution_count": 3,
   "id": "145660a1",
   "metadata": {
    "ExecuteTime": {
     "end_time": "2023-09-15T06:33:13.023114Z",
     "start_time": "2023-09-15T06:33:13.010391Z"
    },
    "scrolled": false
   },
   "outputs": [
    {
     "data": {
      "text/html": [
       "<div>\n",
       "<style scoped>\n",
       "    .dataframe tbody tr th:only-of-type {\n",
       "        vertical-align: middle;\n",
       "    }\n",
       "\n",
       "    .dataframe tbody tr th {\n",
       "        vertical-align: top;\n",
       "    }\n",
       "\n",
       "    .dataframe thead th {\n",
       "        text-align: right;\n",
       "    }\n",
       "</style>\n",
       "<table border=\"1\" class=\"dataframe\">\n",
       "  <thead>\n",
       "    <tr style=\"text-align: right;\">\n",
       "      <th></th>\n",
       "      <th>Observed Values</th>\n",
       "      <th>East</th>\n",
       "      <th>West</th>\n",
       "      <th>North</th>\n",
       "      <th>South</th>\n",
       "    </tr>\n",
       "  </thead>\n",
       "  <tbody>\n",
       "    <tr>\n",
       "      <th>0</th>\n",
       "      <td>Males</td>\n",
       "      <td>50</td>\n",
       "      <td>142</td>\n",
       "      <td>131</td>\n",
       "      <td>70</td>\n",
       "    </tr>\n",
       "    <tr>\n",
       "      <th>1</th>\n",
       "      <td>Females</td>\n",
       "      <td>435</td>\n",
       "      <td>1523</td>\n",
       "      <td>1356</td>\n",
       "      <td>750</td>\n",
       "    </tr>\n",
       "  </tbody>\n",
       "</table>\n",
       "</div>"
      ],
      "text/plain": [
       "  Observed Values  East  West  North  South\n",
       "0           Males    50   142    131     70\n",
       "1         Females   435  1523   1356    750"
      ]
     },
     "execution_count": 3,
     "metadata": {},
     "output_type": "execute_result"
    }
   ],
   "source": [
    "df"
   ]
  },
  {
   "cell_type": "code",
   "execution_count": null,
   "id": "b800e48c",
   "metadata": {},
   "outputs": [],
   "source": [
    "# H0 = There is no difference in male-female Buyer ratio\n",
    "# H1 = There is a difference in male-female Buyer ratio"
   ]
  },
  {
   "cell_type": "code",
   "execution_count": 4,
   "id": "c02214c9",
   "metadata": {
    "ExecuteTime": {
     "end_time": "2023-09-15T06:34:37.488827Z",
     "start_time": "2023-09-15T06:34:37.484738Z"
    }
   },
   "outputs": [],
   "source": [
    "obs=np.array([[50,142,131,70],[435,1523,1356,750]])"
   ]
  },
  {
   "cell_type": "code",
   "execution_count": 5,
   "id": "1b61f880",
   "metadata": {
    "ExecuteTime": {
     "end_time": "2023-09-15T06:34:41.156103Z",
     "start_time": "2023-09-15T06:34:41.150035Z"
    }
   },
   "outputs": [
    {
     "data": {
      "text/plain": [
       "array([[  50,  142,  131,   70],\n",
       "       [ 435, 1523, 1356,  750]])"
      ]
     },
     "execution_count": 5,
     "metadata": {},
     "output_type": "execute_result"
    }
   ],
   "source": [
    "obs"
   ]
  },
  {
   "cell_type": "code",
   "execution_count": 6,
   "id": "a80038fb",
   "metadata": {
    "ExecuteTime": {
     "end_time": "2023-09-15T06:35:27.193973Z",
     "start_time": "2023-09-15T06:35:27.185484Z"
    }
   },
   "outputs": [
    {
     "data": {
      "text/plain": [
       "Chi2ContingencyResult(statistic=1.595945538661058, pvalue=0.6603094907091882, dof=3, expected_freq=array([[  42.76531299,  146.81287862,  131.11756787,   72.30424052],\n",
       "       [ 442.23468701, 1518.18712138, 1355.88243213,  747.69575948]]))"
      ]
     },
     "execution_count": 6,
     "metadata": {},
     "output_type": "execute_result"
    }
   ],
   "source": [
    "chi2_contingency(obs)"
   ]
  },
  {
   "cell_type": "code",
   "execution_count": null,
   "id": "dba9680f",
   "metadata": {},
   "outputs": [],
   "source": [
    "#here pvalue is greater than α=0.05.so, accept H0\n",
    "#so, There is no difference in male-female Buyer ratio.\n"
   ]
  },
  {
   "cell_type": "code",
   "execution_count": null,
   "id": "7488428f",
   "metadata": {},
   "outputs": [],
   "source": []
  }
 ],
 "metadata": {
  "kernelspec": {
   "display_name": "Python 3 (ipykernel)",
   "language": "python",
   "name": "python3"
  },
  "language_info": {
   "codemirror_mode": {
    "name": "ipython",
    "version": 3
   },
   "file_extension": ".py",
   "mimetype": "text/x-python",
   "name": "python",
   "nbconvert_exporter": "python",
   "pygments_lexer": "ipython3",
   "version": "3.11.4"
  }
 },
 "nbformat": 4,
 "nbformat_minor": 5
}
